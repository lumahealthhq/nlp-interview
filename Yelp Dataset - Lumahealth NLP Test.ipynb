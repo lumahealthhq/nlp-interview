{
 "cells": [
  {
   "cell_type": "markdown",
   "metadata": {},
   "source": [
    "<a>\n",
    "    <div style=\"margin: 10px;\">\n",
    "        <p align=\"center\">\n",
    "            <img width=\"80%\" align=\"center\" style=\"margin-right: 140px;\" src=\"./images/logo.png\"/>           \n",
    "        </p>\n",
    "    </div>\n",
    "</a>"
   ]
  },
  {
   "cell_type": "markdown",
   "metadata": {},
   "source": [
    "<a>\n",
    "    <div style=\"margin: 10px;\">\n",
    "        <p align=\"center\">\n",
    "            <img width=\"80%\" align=\"center\" style=\"margin-right: 140px;\" src=\"./images/review-emoji.png\"/>           \n",
    "        </p>\n",
    "    </div>\n",
    "</a>"
   ]
  },
  {
   "cell_type": "markdown",
   "metadata": {},
   "source": [
    "# Summary"
   ]
  },
  {
   "cell_type": "markdown",
   "metadata": {},
   "source": [
    "1. [Exploratory Data Analysis](#eda)<br>\n",
    "\n",
    "2. [Feature Engineering](#featureengineering)<br>\n",
    "    2.1. [Term Frequency-Inverse Document Frequency (TF-IDF)](#tfidf)<br>\n",
    "    \n",
    "3. [Training model](#model)<br>\n",
    "    \n",
    "4. [Results](#results)<br>\n",
    "\n",
    "5. [Saving model](#saving)<br>"
   ]
  },
  {
   "cell_type": "markdown",
   "metadata": {},
   "source": [
    "# 1. Exploratory Data Analysis <a name=\"eda\"></a>"
   ]
  },
  {
   "cell_type": "code",
   "execution_count": 1,
   "metadata": {},
   "outputs": [],
   "source": [
    "import pandas as pd\n",
    "import numpy as np\n",
    "import seaborn as sns\n",
    "import re\n",
    "import matplotlib.pyplot as plt"
   ]
  },
  {
   "cell_type": "markdown",
   "metadata": {},
   "source": [
    "The review file is contained in *yelp_academic_dataset_review.json*, Identifying the data type of each column can reduce memory usage and this information is contained in the dataset documentation: https://www.yelp.com/dataset/documentation/main"
   ]
  },
  {
   "cell_type": "code",
   "execution_count": 14,
   "metadata": {},
   "outputs": [
    {
     "name": "stdout",
     "output_type": "stream",
     "text": [
      "5,9G\tyelp_academic_dataset_review.json\r\n"
     ]
    }
   ],
   "source": [
    "!du -sh yelp_academic_dataset_review.json"
   ]
  },
  {
   "cell_type": "markdown",
   "metadata": {},
   "source": [
    "The dataset is quiet large so a good approach is to read it by chunks"
   ]
  },
  {
   "cell_type": "code",
   "execution_count": 15,
   "metadata": {},
   "outputs": [],
   "source": [
    "chunk_size = 500000\n",
    "review = pd.read_json('yelp_academic_dataset_review.json',\n",
    "                      lines=True,\n",
    "                      dtype={'review_id':str,'user_id':str,\n",
    "                             'business_id':str,'stars':int,\n",
    "                             'date':str,'text':str,'useful':int,\n",
    "                             'funny':int,'cool':int},\n",
    "                      chunksize=chunk_size)"
   ]
  },
  {
   "cell_type": "code",
   "execution_count": 16,
   "metadata": {},
   "outputs": [],
   "source": [
    "chunk_list = []\n",
    "for chunk_review in review:\n",
    "    \n",
    "    # Drop columns that aren't needed\n",
    "    chunk_review = chunk_review.drop(['review_id','useful','funny',\n",
    "                                      'cool', 'date', 'business_id',\n",
    "                                      'user_id'], axis=1)\n",
    "    chunk_list.append(chunk_review)\n",
    "\n",
    "# Concatenate all data back to one dataframe\n",
    "review_df = pd.concat(chunk_list, ignore_index=True, axis=0)"
   ]
  },
  {
   "cell_type": "code",
   "execution_count": 20,
   "metadata": {},
   "outputs": [
    {
     "data": {
      "text/html": [
       "<div>\n",
       "<style scoped>\n",
       "    .dataframe tbody tr th:only-of-type {\n",
       "        vertical-align: middle;\n",
       "    }\n",
       "\n",
       "    .dataframe tbody tr th {\n",
       "        vertical-align: top;\n",
       "    }\n",
       "\n",
       "    .dataframe thead th {\n",
       "        text-align: right;\n",
       "    }\n",
       "</style>\n",
       "<table border=\"1\" class=\"dataframe\">\n",
       "  <thead>\n",
       "    <tr style=\"text-align: right;\">\n",
       "      <th></th>\n",
       "      <th>stars</th>\n",
       "      <th>text</th>\n",
       "    </tr>\n",
       "  </thead>\n",
       "  <tbody>\n",
       "    <tr>\n",
       "      <th>0</th>\n",
       "      <td>2</td>\n",
       "      <td>As someone who has worked with many museums, I...</td>\n",
       "    </tr>\n",
       "    <tr>\n",
       "      <th>1</th>\n",
       "      <td>1</td>\n",
       "      <td>I am actually horrified this place is still in...</td>\n",
       "    </tr>\n",
       "    <tr>\n",
       "      <th>2</th>\n",
       "      <td>5</td>\n",
       "      <td>I love Deagan's. I do. I really do. The atmosp...</td>\n",
       "    </tr>\n",
       "    <tr>\n",
       "      <th>3</th>\n",
       "      <td>1</td>\n",
       "      <td>Dismal, lukewarm, defrosted-tasting \"TexMex\" g...</td>\n",
       "    </tr>\n",
       "    <tr>\n",
       "      <th>4</th>\n",
       "      <td>4</td>\n",
       "      <td>Oh happy day, finally have a Canes near my cas...</td>\n",
       "    </tr>\n",
       "  </tbody>\n",
       "</table>\n",
       "</div>"
      ],
      "text/plain": [
       "   stars                                               text\n",
       "0      2  As someone who has worked with many museums, I...\n",
       "1      1  I am actually horrified this place is still in...\n",
       "2      5  I love Deagan's. I do. I really do. The atmosp...\n",
       "3      1  Dismal, lukewarm, defrosted-tasting \"TexMex\" g...\n",
       "4      4  Oh happy day, finally have a Canes near my cas..."
      ]
     },
     "execution_count": 20,
     "metadata": {},
     "output_type": "execute_result"
    }
   ],
   "source": [
    "review_df.head(5)"
   ]
  },
  {
   "cell_type": "code",
   "execution_count": 21,
   "metadata": {},
   "outputs": [
    {
     "data": {
      "text/plain": [
       "stars    False\n",
       "text     False\n",
       "dtype: bool"
      ]
     },
     "execution_count": 21,
     "metadata": {},
     "output_type": "execute_result"
    }
   ],
   "source": [
    "# Checking for missing values\n",
    "review_df.isnull().any()"
   ]
  },
  {
   "cell_type": "code",
   "execution_count": 22,
   "metadata": {},
   "outputs": [
    {
     "data": {
      "image/png": "[encoded data removed]",
      "text/plain": [
       "<Figure size 432x288 with 1 Axes>"
      ]
     },
     "metadata": {
      "needs_background": "light"
     },
     "output_type": "display_data"
    }
   ],
   "source": [
    "# Checking the scores distribution\n",
    "sns.countplot(review_df.stars);"
   ]
  },
  {
   "cell_type": "markdown",
   "metadata": {},
   "source": [
    "As we can see, the dataset in unbalanced, having more high scores than low score, so to avoid creating a biased model, it's good to balance this dataset, and an approach is to round down all classes to the one with lowest distribution, which is the score of 2"
   ]
  },
  {
   "cell_type": "code",
   "execution_count": 26,
   "metadata": {},
   "outputs": [
    {
     "data": {
      "text/plain": [
       "635072"
      ]
     },
     "execution_count": 26,
     "metadata": {},
     "output_type": "execute_result"
    }
   ],
   "source": [
    "# Number of reviews with 2 stars\n",
    "number_of_reviews_2_stars = review_df[review_df.stars==2].shape[0]\n",
    "number_of_reviews_2_stars"
   ]
  },
  {
   "cell_type": "markdown",
   "metadata": {},
   "source": [
    "# 2. Feature Engineering <a name=\"featureengineering\"></a>"
   ]
  },
  {
   "cell_type": "code",
   "execution_count": 27,
   "metadata": {},
   "outputs": [],
   "source": [
    "from sklearn.utils import resample\n",
    "\n",
    "# Separate majority and minority classes\n",
    "review_df_1_star = review_df[review_df.stars==1]\n",
    "review_df_2_star = review_df[review_df.stars==2]\n",
    "review_df_3_star = review_df[review_df.stars==3]\n",
    "review_df_4_star = review_df[review_df.stars==4]\n",
    "review_df_5_star = review_df[review_df.stars==5]\n",
    "\n",
    "# Downsampling classes\n",
    "review_df_1_star_downsampled = resample(review_df_1_star, \n",
    "                                        replace=False,    # sample without replacement\n",
    "                                        n_samples=number_of_reviews_2_stars, # to match minority class\n",
    "                                        random_state=123) # reproducible results\n",
    "\n",
    "review_df_3_star_downsampled = resample(review_df_3_star, \n",
    "                                        replace=False,    # sample without replacement\n",
    "                                        n_samples=number_of_reviews_2_stars, # to match minority class\n",
    "                                        random_state=123) # reproducible results\n",
    "\n",
    "review_df_4_star_downsampled = resample(review_df_4_star, \n",
    "                                        replace=False,    # sample without replacement\n",
    "                                        n_samples=number_of_reviews_2_stars, # to match minority class\n",
    "                                        random_state=123) # reproducible results\n",
    "\n",
    "review_df_5_star_downsampled = resample(review_df_5_star, \n",
    "                                        replace=False,    # sample without replacement\n",
    "                                        n_samples=number_of_reviews_2_stars, # to match minority class\n",
    "                                        random_state=123) # reproducible results\n",
    " \n",
    "# Combine minority class with downsampled majority class\n",
    "review_df_balanced = pd.concat([review_df_1_star_downsampled,\n",
    "                                review_df_2_star,\n",
    "                                review_df_3_star_downsampled,\n",
    "                                review_df_4_star_downsampled,\n",
    "                                review_df_5_star_downsampled])"
   ]
  },
  {
   "cell_type": "code",
   "execution_count": 28,
   "metadata": {},
   "outputs": [
    {
     "data": {
      "image/png": "[encoded data removed]",
      "text/plain": [
       "<Figure size 432x288 with 1 Axes>"
      ]
     },
     "metadata": {
      "needs_background": "light"
     },
     "output_type": "display_data"
    }
   ],
   "source": [
    "# Checking the scores distribution in balanced dataframe\n",
    "sns.countplot(review_df_balanced.stars);"
   ]
  },
  {
   "cell_type": "code",
   "execution_count": 29,
   "metadata": {},
   "outputs": [],
   "source": [
    "review_df_balanced.to_csv('yelp_reviews_text_stars_balanced.csv', index=False)"
   ]
  },
  {
   "cell_type": "code",
   "execution_count": 31,
   "metadata": {},
   "outputs": [
    {
     "name": "stdout",
     "output_type": "stream",
     "text": [
      "(3175360, 2)\n"
     ]
    },
    {
     "data": {
      "text/html": [
       "<div>\n",
       "<style scoped>\n",
       "    .dataframe tbody tr th:only-of-type {\n",
       "        vertical-align: middle;\n",
       "    }\n",
       "\n",
       "    .dataframe tbody tr th {\n",
       "        vertical-align: top;\n",
       "    }\n",
       "\n",
       "    .dataframe thead th {\n",
       "        text-align: right;\n",
       "    }\n",
       "</style>\n",
       "<table border=\"1\" class=\"dataframe\">\n",
       "  <thead>\n",
       "    <tr style=\"text-align: right;\">\n",
       "      <th></th>\n",
       "      <th>stars</th>\n",
       "      <th>text</th>\n",
       "    </tr>\n",
       "  </thead>\n",
       "  <tbody>\n",
       "    <tr>\n",
       "      <th>5485243</th>\n",
       "      <td>1</td>\n",
       "      <td>Typically, I love Clothes Mentor.  What's bett...</td>\n",
       "    </tr>\n",
       "    <tr>\n",
       "      <th>6326698</th>\n",
       "      <td>1</td>\n",
       "      <td>Horrible!  We were in town sightseeing and the...</td>\n",
       "    </tr>\n",
       "    <tr>\n",
       "      <th>3637169</th>\n",
       "      <td>1</td>\n",
       "      <td>My boyfriend went here 2 weeks ago with his da...</td>\n",
       "    </tr>\n",
       "    <tr>\n",
       "      <th>5315402</th>\n",
       "      <td>1</td>\n",
       "      <td>If you want to have food missing, not made the...</td>\n",
       "    </tr>\n",
       "    <tr>\n",
       "      <th>2792426</th>\n",
       "      <td>1</td>\n",
       "      <td>Worst experience ever. A bunch of liars and th...</td>\n",
       "    </tr>\n",
       "  </tbody>\n",
       "</table>\n",
       "</div>"
      ],
      "text/plain": [
       "         stars                                               text\n",
       "5485243      1  Typically, I love Clothes Mentor.  What's bett...\n",
       "6326698      1  Horrible!  We were in town sightseeing and the...\n",
       "3637169      1  My boyfriend went here 2 weeks ago with his da...\n",
       "5315402      1  If you want to have food missing, not made the...\n",
       "2792426      1  Worst experience ever. A bunch of liars and th..."
      ]
     },
     "execution_count": 31,
     "metadata": {},
     "output_type": "execute_result"
    }
   ],
   "source": [
    "print(review_df_balanced.shape)\n",
    "review_df_balanced.head()"
   ]
  },
  {
   "cell_type": "markdown",
   "metadata": {},
   "source": [
    "Changing the stars columns, ranging from 1 to 5, to 1, 2 or 3, representing Negative, Neutral and Positive sentiments respectively"
   ]
  },
  {
   "cell_type": "code",
   "execution_count": 32,
   "metadata": {},
   "outputs": [],
   "source": [
    "# reduce the 5 stars range to 3 sentiments (0 for negative, 1 for neutral and 2 for positive)\n",
    "review_df_balanced['sentiment'] = review_df_balanced['stars'].apply(\n",
    "    lambda x: 0 if x < 3 else (1 if x == 3 else 2))\n",
    "\n",
    "# Dropping stars column\n",
    "review_df_balanced.drop('stars', axis=1, inplace=True)"
   ]
  },
  {
   "cell_type": "markdown",
   "metadata": {},
   "source": [
    "## Separating data in train and test with 30% test set and stratification"
   ]
  },
  {
   "cell_type": "code",
   "execution_count": 39,
   "metadata": {},
   "outputs": [],
   "source": [
    "from sklearn.model_selection import train_test_split\n",
    "\n",
    "train, test = train_test_split(review_df_balanced,\n",
    "                               test_size=0.3,\n",
    "                               stratify=review_df_balanced['sentiment'],\n",
    "                               random_state = 42)"
   ]
  },
  {
   "cell_type": "code",
   "execution_count": 40,
   "metadata": {},
   "outputs": [],
   "source": [
    "import string\n",
    "\n",
    "def text_prep(text):\n",
    "    '''\n",
    "    Remove some stop words and abbreviations manually\n",
    "    '''\n",
    "    punct = set(string.punctuation)\n",
    "    \n",
    "    #clean text\n",
    "    text = re.sub(r\"\\'re\", \" are \", text)\n",
    "    text = re.sub(r\"n't\", \" not \", text)\n",
    "    text = re.sub(r\"\\'s\", \" \", text)\n",
    "    text = re.sub(r\"\\'ll\", \" will \", text)\n",
    "    text = re.sub(r\"\\'ve\", \" have \", text)    \n",
    "    text = re.sub(r\"\\'d\", \" would \", text)    \n",
    "    \n",
    "    #remove non-letters and lower case\n",
    "    text = re.sub('[^a-z\\s]', '', text.lower())\n",
    "    \n",
    "    #remove punctuation        \n",
    "    punc_removed = [char for char in text if char not in punct]\n",
    "    punc_removed = ''.join(punc_removed)\n",
    "    \n",
    "    return [word for word in punc_removed.split()]"
   ]
  },
  {
   "cell_type": "markdown",
   "metadata": {},
   "source": [
    "# 2.1 Term Frequency-Inverse Document Frequency (TF-IDF)  <a name=\"tfidf\"></a>"
   ]
  },
  {
   "cell_type": "markdown",
   "metadata": {},
   "source": [
    "TF-IDF is a statistical measure that evaluates how relevant a word is to a document (could be a text column in a pandas dataframe for example), in a collection of documents. This is done by multiplying two metrics: how many times a word appears in a document, and the inverse document frequency of the word across a set of documents. It can be expressed as:\n",
    "\n",
    "\n",
    "<div align=\"center\"  style=\"margin: 20px;\">    \n",
    "$\\begin{align}\n",
    " TFIDF_{i,j} = TF*IDF\n",
    "\\end{align}$ \n",
    "where:\n",
    "</div>\n",
    "\n",
    "\n",
    "\n",
    "<div align=\"center\"  style=\"margin: 20px;\">    \n",
    "$\\begin{align}\n",
    " TF_{i,j} = \\frac{number\\ of\\ times\\ term\\ i\\ is\\ on\\ document\\ j}{total\\ number\\ of\\ terms\\ on\\ document\\ j}\n",
    "\\end{align}$ \n",
    "</div>\n",
    "\n",
    "\n",
    "<div align=\"center\"  style=\"margin: 20px;\">    \n",
    "$\\begin{align}\n",
    " IDF_{i} = ln\\left(\\frac{total\\ number\\ of\\ documents}{number\\ of\\ document\\ containing\\ the\\ term\\ i}\\right)\n",
    "\\end{align}$ \n",
    "</div>"
   ]
  },
  {
   "cell_type": "code",
   "execution_count": 44,
   "metadata": {},
   "outputs": [],
   "source": [
    "from sklearn.feature_extraction.text import TfidfVectorizer\n",
    "\n",
    "# min_df ignores terms that occur with a frequency lower than 10 documents, and max_df ignores documents that\n",
    "# occur with a frequency higher than 95% of documents\n",
    "tfidf_vectorizer = TfidfVectorizer(use_idf=True, analyzer=text_prep, min_df=10, max_df=0.95)\n",
    "tfidf_vectorizer.fit_transform(train['text'].values)\n",
    "\n",
    "# Transforming train set with tfidf\n",
    "train_feature_set = tfidf_vectorizer.transform(train['text'].values)\n",
    "\n",
    "# Transforming test set with tfidf\n",
    "test_feature_set = tfidf_vectorizer.transform(test['text'].values)"
   ]
  },
  {
   "cell_type": "code",
   "execution_count": 43,
   "metadata": {},
   "outputs": [],
   "source": [
    "# Separating labels\n",
    "y_train = train['sentiment'].values\n",
    "y_test = test['sentiment'].values"
   ]
  },
  {
   "cell_type": "markdown",
   "metadata": {},
   "source": [
    "# 3. Training model <a name=\"model\"></a>"
   ]
  },
  {
   "cell_type": "code",
   "execution_count": 46,
   "metadata": {},
   "outputs": [],
   "source": [
    "from sklearn.linear_model import LogisticRegression\n",
    "\n",
    "lr = LogisticRegression(solver='liblinear', random_state=42, max_iter=1000)\n",
    "lr.fit(train_feature_set,y_train)\n",
    "y_pred = lr.predict(test_feature_set)"
   ]
  },
  {
   "cell_type": "markdown",
   "metadata": {},
   "source": [
    "# 4. Results <a name=\"results\"></a>"
   ]
  },
  {
   "cell_type": "code",
   "execution_count": 48,
   "metadata": {},
   "outputs": [
    {
     "name": "stdout",
     "output_type": "stream",
     "text": [
      "Accuracy:  0.7933483657496053\n",
      "F1:  [0.85235351 0.46635105 0.86253814]\n"
     ]
    }
   ],
   "source": [
    "from sklearn import metrics\n",
    "\n",
    "print(\"Accuracy: \", metrics.accuracy_score(y_test,y_pred))\n",
    "print(\"F1: \", metrics.f1_score(y_test, y_pred, average=None))"
   ]
  },
  {
   "cell_type": "code",
   "execution_count": 49,
   "metadata": {},
   "outputs": [
    {
     "data": {
      "image/png": "[encoded data removed]",
      "text/plain": [
       "<Figure size 432x288 with 2 Axes>"
      ]
     },
     "metadata": {
      "needs_background": "light"
     },
     "output_type": "display_data"
    }
   ],
   "source": [
    "disp = metrics.plot_confusion_matrix(lr, test_feature_set, y_test,\n",
    "                                     display_labels=['Negative', 'Neutral', 'Positive'],\n",
    "                                     cmap=plt.cm.Blues,\n",
    "                                     normalize='true')\n",
    "disp.ax_.set_title('Logistic Regression Confusion matrix, with normalization');"
   ]
  },
  {
   "cell_type": "markdown",
   "metadata": {},
   "source": [
    "As the confusion matrix shows, the model is classifying negative and positive sentiments with a good accuracy of ~90%, while having a low accuracy for neutral sentiments, this could be from the fact that these classes were created by attributing a range out of 5 stars for each class (1 and 2 for negative, 3 for neutral, 4 and 5 for positive).\n",
    "\n",
    "Another possible implementation would be to use **TextBlob**, which classifies a sentence in a range from -1 to 1, so we could attribute from -1 to -0.3 to negative sentiment, from -0.3 to +0.3 to neutral sentiment and from +0.3 to 1 to positive sentiment. "
   ]
  },
  {
   "cell_type": "code",
   "execution_count": 51,
   "metadata": {},
   "outputs": [],
   "source": [
    "feature_importance = lr.coef_[0]\n",
    "sorted_idx = np.argsort(feature_importance)\n",
    "\n",
    "top_10_negative = [list(tfidf_vectorizer.vocabulary_.keys())[list(\n",
    "    tfidf_vectorizer.vocabulary_.values()).index(w)] for w in sorted_idx[range(-1, -11, -1)]]"
   ]
  },
  {
   "cell_type": "code",
   "execution_count": 52,
   "metadata": {},
   "outputs": [
    {
     "data": {
      "image/png": "[encoded data removed]",
      "text/plain": [
       "<Figure size 720x432 with 1 Axes>"
      ]
     },
     "metadata": {
      "needs_background": "light"
     },
     "output_type": "display_data"
    }
   ],
   "source": [
    "fig = plt.figure(figsize=(10, 6))\n",
    "ax = sns.barplot(top_10_negative, feature_importance[sorted_idx[range(-1, -11, -1)]])\n",
    "plt.title(\"Most Important Words Used for Negative Sentiment classification\", fontsize=20)\n",
    "\n",
    "x_locs, x_labels = plt.xticks()\n",
    "plt.setp(x_labels, rotation=40)\n",
    "plt.ylabel('Feature Importance', fontsize=12)\n",
    "plt.xlabel('Word', fontsize=12);"
   ]
  },
  {
   "cell_type": "code",
   "execution_count": 53,
   "metadata": {},
   "outputs": [],
   "source": [
    "top_10_positive = [list(tfidf_vectorizer.vocabulary_.keys())[list(\n",
    "    tfidf_vectorizer.vocabulary_.values()).index(w)] for w in sorted_idx[:10]]"
   ]
  },
  {
   "cell_type": "code",
   "execution_count": 54,
   "metadata": {},
   "outputs": [
    {
     "data": {
      "image/png": "[encoded data removed]",
      "text/plain": [
       "<Figure size 720x432 with 1 Axes>"
      ]
     },
     "metadata": {
      "needs_background": "light"
     },
     "output_type": "display_data"
    }
   ],
   "source": [
    "fig = plt.figure(figsize=(10, 6))\n",
    "ax = sns.barplot(top_10_positive, feature_importance[sorted_idx[:10]]*-1)\n",
    "plt.title(\"Most Important Words Used for Positive Sentiment\",fontsize = 20)\n",
    "x_locs,x_labels = plt.xticks()\n",
    "plt.setp(x_labels, rotation = 40)\n",
    "plt.ylabel('Feature Importance', fontsize = 12)\n",
    "plt.xlabel('Word', fontsize = 12);"
   ]
  },
  {
   "cell_type": "markdown",
   "metadata": {},
   "source": [
    "# 5. Saving model <a name=\"saving\"></a>"
   ]
  },
  {
   "cell_type": "code",
   "execution_count": 55,
   "metadata": {},
   "outputs": [
    {
     "data": {
      "text/plain": [
       "['sentiment_classifier_model.pkl']"
      ]
     },
     "execution_count": 55,
     "metadata": {},
     "output_type": "execute_result"
    }
   ],
   "source": [
    "import pickle\n",
    "import joblib\n",
    "\n",
    "# Saving tfidf_vectorizer and logistic regression model\n",
    "joblib.dump([tfidf_vectorizer, lr], 'sentiment_classifier_model.pkl')"
   ]
  },
  {
   "cell_type": "code",
   "execution_count": 59,
   "metadata": {},
   "outputs": [
    {
     "data": {
      "text/plain": [
       "0"
      ]
     },
     "execution_count": 59,
     "metadata": {},
     "output_type": "execute_result"
    }
   ],
   "source": [
    "test_review = cv.transform([\"I did not enjoy the food or the service\"])\n",
    "np.argmax(lr.predict_proba(test_review))"
   ]
  },
  {
   "cell_type": "code",
   "execution_count": 58,
   "metadata": {},
   "outputs": [
    {
     "data": {
      "text/plain": [
       "2"
      ]
     },
     "execution_count": 58,
     "metadata": {},
     "output_type": "execute_result"
    }
   ],
   "source": [
    "test_review = cv.transform([\"This place was great!\"])\n",
    "np.argmax(lr.predict_proba(test_review))"
   ]
  },
  {
   "cell_type": "code",
   "execution_count": null,
   "metadata": {},
   "outputs": [],
   "source": []
  }
 ],
 "metadata": {
  "kernelspec": {
   "display_name": "Python 3",
   "language": "python",
   "name": "python3"
  },
  "language_info": {
   "codemirror_mode": {
    "name": "ipython",
    "version": 3
   },
   "file_extension": ".py",
   "mimetype": "text/x-python",
   "name": "python",
   "nbconvert_exporter": "python",
   "pygments_lexer": "ipython3",
   "version": "3.7.6"
  }
 },
 "nbformat": 4,
 "nbformat_minor": 4
}
